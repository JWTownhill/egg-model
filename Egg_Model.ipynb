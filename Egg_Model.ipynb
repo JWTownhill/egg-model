{
 "cells": [
  {
   "cell_type": "code",
   "execution_count": null,
   "metadata": {},
   "outputs": [],
   "source": [
    "from fastai.vision.all import *\n",
    "from fastai.vision.widgets import *"
   ]
  },
  {
   "cell_type": "markdown",
   "metadata": {},
   "source": [
    "# Cutting egg image classifier\n",
    "\n",
    "Do you have an image of some delicious eggs? Do you need to classify that image as either scrambled, boiled or fried? Do you want to feed the egg-o-tron other images, for example pictures of friends, to see whether they are scrambled, boiled or fried? Then you've come to the right place.\n",
    "\n",
    "**Note** this app assumes the uploaded image is a picture of scrambled, boiled, or fried eggs. The model has only ever seen pictures of eggs so knows nothing else. If you show it a picture of a cat it will still think it is an egg."
   ]
  },
  {
   "cell_type": "code",
   "execution_count": null,
   "metadata": {},
   "outputs": [],
   "source": [
    "path = Path()\n",
    "learn = load_learner(path/'export.pkl')"
   ]
  },
  {
   "cell_type": "code",
   "execution_count": null,
   "metadata": {},
   "outputs": [],
   "source": [
    "lbl_pred = widgets.Label()\n",
    "btn_run = widgets.Button(description = 'Classify')\n",
    "btn_upload = widgets.FileUpload()\n",
    "out_pl = widgets.Output()\n",
    "\n",
    "def on_click_classify(change):\n",
    "    img = PILImage.create(btn_upload.data[-1])\n",
    "    out_pl.clear_output()\n",
    "    with out_pl: display(img.to_thumb(256,256))\n",
    "    pred, pred_idx, probs = learn.predict(img)\n",
    "    lbl_pred.value = f'Prediction: {pred} egg; Probability: {probs[pred_idx]:.02f}'\n",
    "    \n",
    "btn_run.on_click(on_click_classify)"
   ]
  },
  {
   "cell_type": "code",
   "execution_count": null,
   "metadata": {},
   "outputs": [],
   "source": [
    "display(VBox([widgets.Label('Upload a picture of a scrambled, boiled, or fried egg and press Classify.'),\n",
    "     btn_upload,\n",
    "     btn_run,\n",
    "     out_pl,\n",
    "     lbl_pred]))"
   ]
  },
  {
   "cell_type": "markdown",
   "metadata": {},
   "source": [
    "## How it works"
   ]
  },
  {
   "cell_type": "markdown",
   "metadata": {},
   "source": [
    "The classifier uses an 18 layer convolutional neural network ('ResNet18' which was originally designed for general purpose image classification) trained on approximately 150 images of eggs to specialise it for classifying eggs. Eggcellent!"
   ]
  }
 ],
 "metadata": {
  "kernelspec": {
   "display_name": "Python 3",
   "language": "python",
   "name": "python3"
  },
  "language_info": {
   "codemirror_mode": {
    "name": "ipython",
    "version": 3
   },
   "file_extension": ".py",
   "mimetype": "text/x-python",
   "name": "python",
   "nbconvert_exporter": "python",
   "pygments_lexer": "ipython3",
   "version": "3.8.6"
  }
 },
 "nbformat": 4,
 "nbformat_minor": 4
}
